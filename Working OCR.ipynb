{
 "cells": [
  {
   "cell_type": "code",
   "execution_count": 67,
   "metadata": {
    "colab": {},
    "colab_type": "code",
    "id": "yqzrG6-wHGr5"
   },
   "outputs": [],
   "source": [
    "import cv2\n",
    "import numpy as np\n",
    "\n",
    "import os\n",
    "\n",
    "from pp_ocr.text_engine import TextEngine\n",
    "from pp_ocr import imgproc"
   ]
  },
  {
   "cell_type": "code",
   "execution_count": 69,
   "metadata": {},
   "outputs": [],
   "source": [
    "images = []\n",
    "for filename in os.listdir(\"arena_examples\"):\n",
    "    img = cv2.imread(os.path.join(\"arena_examples\",filename))\n",
    "    if img is not None:\n",
    "        images.append(img)"
   ]
  },
  {
   "cell_type": "code",
   "execution_count": 76,
   "metadata": {
    "colab": {},
    "colab_type": "code",
    "id": "GlXF8FpIzsKO",
    "scrolled": false
   },
   "outputs": [
    {
     "name": "stdout",
     "output_type": "stream",
     "text": [
      "Loading text detector from pp_ocr/craft_mlt_25k.pth\n",
      "Loading text recognizer from pp_ocr/TPS-ResNet-BiLSTM-Attn.pth\n",
      "model input parameters 32 100 20 1 512 256 38 25 TPS ResNet BiLSTM Attn\n",
      "batch of images:  9\n",
      "# of texts detected in image 1 of batch size 9: 2\n",
      "# of texts detected in image 2 of batch size 9: 2\n",
      "# of texts detected in image 3 of batch size 9: 3\n",
      "# of texts detected in image 4 of batch size 9: 2\n",
      "# of texts detected in image 5 of batch size 9: 2\n",
      "# of texts detected in image 6 of batch size 9: 2\n",
      "# of texts detected in image 7 of batch size 9: 2\n",
      "# of texts detected in image 8 of batch size 9: 1\n",
      "# of texts detected in image 9 of batch size 9: 2\n",
      "cropped images of text 9\n",
      "curr batch index  0\n",
      "Prediction: a\n",
      "Prediction: m\n",
      "curr batch index  1\n",
      "Prediction: u\n",
      "Prediction: m\n",
      "curr batch index  2\n",
      "Prediction: u\n",
      "Prediction: m\n",
      "Prediction: the\n",
      "curr batch index  3\n",
      "Prediction: q\n",
      "Prediction: m\n",
      "curr batch index  4\n",
      "Prediction: a\n",
      "Prediction: m\n",
      "curr batch index  5\n",
      "Prediction: u\n",
      "Prediction: it\n",
      "curr batch index  6\n",
      "Prediction: a\n",
      "Prediction: m\n",
      "curr batch index  7\n",
      "Prediction: n\n",
      "curr batch index  8\n",
      "Prediction: v\n",
      "Prediction: m\n"
     ]
    }
   ],
   "source": [
    "text_engine = TextEngine(cuda=False)\n",
    "\n",
    "cropped_images_of_text = text_engine.detect_and_recognize_text(images, padding=0.0, show_time=False,\n",
    "                                                                show_images=False,\n",
    "                                                                text_confidence_threshold=0.6)"
   ]
  },
  {
   "cell_type": "code",
   "execution_count": 77,
   "metadata": {},
   "outputs": [],
   "source": [
    "img3 = images[0].copy()"
   ]
  },
  {
   "cell_type": "code",
   "execution_count": 78,
   "metadata": {},
   "outputs": [
    {
     "name": "stdout",
     "output_type": "stream",
     "text": [
      "Recognized word/character: a\n",
      "Coordinates: (553, 608, 432, 487)\n",
      "\n",
      "\n",
      "Recognized word/character: m\n",
      "Coordinates: (12, 62, 700, 748)\n",
      "\n",
      "\n"
     ]
    }
   ],
   "source": [
    "for tup in cropped_images_of_text[0]:\n",
    "    print('Recognized word/character:', tup[3])\n",
    "    print('Coordinates:', tup[2]) #xmin, xmax, ymin, ymax\n",
    "    cv2.rectangle(img3, (tup[2][2], tup[2][0]), (tup[2][3], tup[2][1]), (255, 255, 0), 2)\n",
    "    print('\\n')"
   ]
  },
  {
   "cell_type": "code",
   "execution_count": 79,
   "metadata": {},
   "outputs": [],
   "source": [
    "cv2.imshow(\"test\", img3)\n",
    "cv2.waitKey(0)\n",
    "cv2.destroyAllWindows()"
   ]
  },
  {
   "cell_type": "code",
   "execution_count": null,
   "metadata": {},
   "outputs": [],
   "source": []
  }
 ],
 "metadata": {
  "colab": {
   "collapsed_sections": [],
   "name": "TIL Template Matching.ipynb",
   "provenance": []
  },
  "kernelspec": {
   "display_name": "Python 3",
   "language": "python",
   "name": "python3"
  },
  "language_info": {
   "codemirror_mode": {
    "name": "ipython",
    "version": 3
   },
   "file_extension": ".py",
   "mimetype": "text/x-python",
   "name": "python",
   "nbconvert_exporter": "python",
   "pygments_lexer": "ipython3",
   "version": "3.7.7"
  }
 },
 "nbformat": 4,
 "nbformat_minor": 1
}
